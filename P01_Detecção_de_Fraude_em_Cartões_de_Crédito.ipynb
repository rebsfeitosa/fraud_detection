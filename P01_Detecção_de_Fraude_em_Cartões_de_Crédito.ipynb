{
  "nbformat": 4,
  "nbformat_minor": 0,
  "metadata": {
    "colab": {
      "name": "P01_Detecção de Fraude em Cartões de Crédito.ipynb",
      "provenance": [],
      "collapsed_sections": [],
      "include_colab_link": true
    },
    "kernelspec": {
      "name": "python3",
      "display_name": "Python 3"
    }
  },
  "cells": [
    {
      "cell_type": "markdown",
      "metadata": {
        "id": "view-in-github",
        "colab_type": "text"
      },
      "source": [
        "<a href=\"https://colab.research.google.com/github/rebsfeitosa/fraud_detection/blob/main/P01_Detec%C3%A7%C3%A3o_de_Fraude_em_Cart%C3%B5es_de_Cr%C3%A9dito.ipynb\" target=\"_parent\"><img src=\"https://colab.research.google.com/assets/colab-badge.svg\" alt=\"Open In Colab\"/></a>"
      ]
    },
    {
      "cell_type": "markdown",
      "metadata": {
        "id": "sC2BFMOKN1M7"
      },
      "source": [
        "---\n",
        "<img alt=\"Colaboratory logo\" width=\"15%\" src=\"https://raw.githubusercontent.com/carlosfab/escola-data-science/master/img/novo_logo_bg_claro.png\">\n",
        "\n",
        "#### **Data Science na Prática 3.0**\n",
        "*by [sigmoidal.ai](https://sigmoidal.ai)*  \n",
        "\n",
        "---"
      ]
    },
    {
      "cell_type": "markdown",
      "metadata": {
        "id": "IR56trFcPcC1"
      },
      "source": [
        "# Detecção de Fraudes em Cartões de Crédito\n",
        "\n",
        "Neste projeto, iremos abordar o problema das fraudes em cartões de crédito, uma das principais preocupações das instituições financeiras como bancos e *fintechs*. Apenas no Brasil, cerca de 12,1 milhões de pessoas já foram vítimas de algum tipo de fraude financeira no último ano. Traduzindo em valores, os golpes financeiros ultrapassaram a cifra de R$ 1,8 bilhão de prejuízo por ano para os últimos 12 meses.\n",
        "\n",
        "<p align=center>\n",
        "<img src=\"https://images.unsplash.com/photo-1592772874383-d08932d29db7?ixid=MnwxMjA3fDB8MHxwaG90by1wYWdlfHx8fGVufDB8fHx8&ixlib=rb-1.2.1&auto=format&fit=crop&w=699&q=80\" width=\"60%\"></p>\n",
        "\n",
        "Dentra essas fraudes, aquelas envolvendo cartões de crédito são de grande relevância uma vez que a sua não-detecção acaretará em prejuízos consideráveis, tanto para o consumidor quanto para a instituição financeira.\n",
        "\n",
        "Um outro fator a ser considerado é a quantidade de falsos positivos, ou seja, aquelas vezes em que você tentou fazer uma compra e teve seu cartão bloqueado preventivamente - o que provavelmente gerou estresse e constrangimento.\n",
        "\n",
        "Por todos esses motivos, o investimento na área de detecção de fraudes por meio de Inteligência Artificial vem crescendo a cada ano, representando uma grande oportunidade em *Data Science*. \n",
        "\n",
        "Dispondo de grandes volumes de dados como base histórica, um algoritmo de machine learning apenas um pouco melhor que os anteriores já representa uma economia de milhões de Reais. E esse é o desafio, aprimorar cada vez mais o uso de algoritmos visando inibir ou evitar transações fraudulentas."
      ]
    },
    {
      "cell_type": "markdown",
      "metadata": {
        "id": "0HVmpIxQWT4Y"
      },
      "source": [
        "## Importando os Dados\n",
        "\n",
        "Os dados que usaremos neste projeto foram disponibilizados por algumas empresas européias de cartão de crédito. O *dataset* representa as operações financeiras que aconteceram no período de dois dias, onde foram classificadas 492 fraudes em meio a quase 290 mil transações.\n",
        "\n",
        "Como você pode notar, este é um conjunto de dados extremamente desbalanceado, onde as fraudes representam apenas 0,17% do total.\n",
        "\n",
        "Outro detalhe interessante é que as *features* são todas numéricas, e foram descaracterizadas (por problemas ligados à privacidade e segurança). Assim, os nomes das colunas são representados por $[V1, V2, V3 \\dots, V28]$ \n",
        "\n",
        "<p align=center>\n",
        "<img src=\"https://images.unsplash.com/photo-1620714223084-8fcacc6dfd8d?ixid=MnwxMjA3fDB8MHxwaG90by1wYWdlfHx8fGVufDB8fHx8&ixlib=rb-1.2.1&auto=format&fit=crop&w=1051&q=80\" width=\"50%\"></p>\n",
        "\n",
        "[Na página original dos dados](https://www.kaggle.com/mlg-ulb/creditcardfraud), também é informado que as variáveis passaram por uma transformação conhecida como Análise de Componentes Principais (*Principal Component Analysis* - PCA).\n",
        "\n",
        "A PCA permite a redução da dimensionalidade enquanto mantém o maior número possível de informações. Para conseguir isso, o algoritmo encontra um conjunto novo de recursos - os chamados **componentes**.\n",
        "\n",
        "Esses componentes são em número menor or igual às variáveis originais. No caso deste projeto, os componentes achados pela transformação da PCA são as próprias colunas $[V1, V2, V3 \\dots, V28]$."
      ]
    },
    {
      "cell_type": "code",
      "metadata": {
        "id": "oQ4bNy7udtEE"
      },
      "source": [
        "# importar os pacotes necessários\n",
        "import pandas as pd\n",
        "import matplotlib.pyplot as plt\n",
        "import seaborn as sns\n",
        "\n",
        "# Configurar o notebook\n",
        "sns.set_style()\n",
        "\n",
        "# importar scikit-learn para criar o modelo\n",
        "from sklearn.model_selection import train_test_split\n",
        "from sklearn.preprocessing import StandardScaler\n",
        "from sklearn.metrics import classification_report\n",
        "from sklearn.metrics import confusion_matrix\n",
        "from sklearn.metrics import roc_auc_score, roc_curve, accuracy_score"
      ],
      "execution_count": null,
      "outputs": []
    },
    {
      "cell_type": "markdown",
      "metadata": {
        "id": "g5XDTWW5LRVe"
      },
      "source": [
        "Para facilitar a aquisição dos dados, criei um *link* com acesso direto ao `csv`. Com isso, basta importar o conjunto de dados usando o método `pd.read_csv()`."
      ]
    },
    {
      "cell_type": "code",
      "metadata": {
        "id": "4NxUOfDOj2j8"
      },
      "source": [
        "# importar os dados para um dataframe\n",
        "df = pd.read_csv(\"https://www.dropbox.com/s/b44o3t3ehmnx2b7/creditcard.csv?dl=1\")"
      ],
      "execution_count": null,
      "outputs": []
    },
    {
      "cell_type": "markdown",
      "metadata": {
        "id": "7nF_Dhd81Cvq"
      },
      "source": [
        "Com os dados importados para dentro de uma estrutura *Dataframe* - e não havendo a necessidade de mais nenhum ajuste ou configuração nesta etapa, pode-se iniciar uma análise exploratória dos dados a fim de preparar um modelo de *Machine Learning*.\n",
        "\n",
        "Lembre-se de realizar o *split* dos conjuntos, para evitar o vazamento de dados.\n",
        "\n",
        "Feito isso, vamos à Análise Exploratória."
      ]
    },
    {
      "cell_type": "markdown",
      "metadata": {
        "id": "8UtXyZ6stlSM"
      },
      "source": [
        "## Análise Exploratória\n",
        "\n",
        "Para começar é importante verificar a quantidade de entradas e variáveis do dataset e entender o tipo de dado que cada coluna contém. Também iremos verificar o nome de todas as colunas do dataset e de qual tipo elas são.\n",
        "\n"
      ]
    },
    {
      "cell_type": "code",
      "metadata": {
        "colab": {
          "base_uri": "https://localhost:8080/",
          "height": 275
        },
        "id": "hH0np4o-6iYv",
        "outputId": "5681d05a-3ebc-448a-b364-a450f71c1fec"
      },
      "source": [
        "#Verificando a quantidade de linhas e colunas do dataset\n",
        "print('Dimensões do dataset',\n",
        "      '\\nVariáveis: ',df.shape[1], '\\n'\n",
        "      'Entradas: ', df.shape[0])\n",
        "\n",
        "#Verificando as primeiras entradas do dataset\n",
        "df.head()"
      ],
      "execution_count": null,
      "outputs": [
        {
          "output_type": "stream",
          "name": "stdout",
          "text": [
            "Dimensões do dataset \n",
            "Variáveis:  31 \n",
            "Entradas:  284807\n"
          ]
        },
        {
          "output_type": "execute_result",
          "data": {
            "text/html": [
              "<div>\n",
              "<style scoped>\n",
              "    .dataframe tbody tr th:only-of-type {\n",
              "        vertical-align: middle;\n",
              "    }\n",
              "\n",
              "    .dataframe tbody tr th {\n",
              "        vertical-align: top;\n",
              "    }\n",
              "\n",
              "    .dataframe thead th {\n",
              "        text-align: right;\n",
              "    }\n",
              "</style>\n",
              "<table border=\"1\" class=\"dataframe\">\n",
              "  <thead>\n",
              "    <tr style=\"text-align: right;\">\n",
              "      <th></th>\n",
              "      <th>Time</th>\n",
              "      <th>V1</th>\n",
              "      <th>V2</th>\n",
              "      <th>V3</th>\n",
              "      <th>V4</th>\n",
              "      <th>V5</th>\n",
              "      <th>V6</th>\n",
              "      <th>V7</th>\n",
              "      <th>V8</th>\n",
              "      <th>V9</th>\n",
              "      <th>V10</th>\n",
              "      <th>V11</th>\n",
              "      <th>V12</th>\n",
              "      <th>V13</th>\n",
              "      <th>V14</th>\n",
              "      <th>V15</th>\n",
              "      <th>V16</th>\n",
              "      <th>V17</th>\n",
              "      <th>V18</th>\n",
              "      <th>V19</th>\n",
              "      <th>V20</th>\n",
              "      <th>V21</th>\n",
              "      <th>V22</th>\n",
              "      <th>V23</th>\n",
              "      <th>V24</th>\n",
              "      <th>V25</th>\n",
              "      <th>V26</th>\n",
              "      <th>V27</th>\n",
              "      <th>V28</th>\n",
              "      <th>Amount</th>\n",
              "      <th>Class</th>\n",
              "    </tr>\n",
              "  </thead>\n",
              "  <tbody>\n",
              "    <tr>\n",
              "      <th>0</th>\n",
              "      <td>0.0</td>\n",
              "      <td>-1.359807</td>\n",
              "      <td>-0.072781</td>\n",
              "      <td>2.536347</td>\n",
              "      <td>1.378155</td>\n",
              "      <td>-0.338321</td>\n",
              "      <td>0.462388</td>\n",
              "      <td>0.239599</td>\n",
              "      <td>0.098698</td>\n",
              "      <td>0.363787</td>\n",
              "      <td>0.090794</td>\n",
              "      <td>-0.551600</td>\n",
              "      <td>-0.617801</td>\n",
              "      <td>-0.991390</td>\n",
              "      <td>-0.311169</td>\n",
              "      <td>1.468177</td>\n",
              "      <td>-0.470401</td>\n",
              "      <td>0.207971</td>\n",
              "      <td>0.025791</td>\n",
              "      <td>0.403993</td>\n",
              "      <td>0.251412</td>\n",
              "      <td>-0.018307</td>\n",
              "      <td>0.277838</td>\n",
              "      <td>-0.110474</td>\n",
              "      <td>0.066928</td>\n",
              "      <td>0.128539</td>\n",
              "      <td>-0.189115</td>\n",
              "      <td>0.133558</td>\n",
              "      <td>-0.021053</td>\n",
              "      <td>149.62</td>\n",
              "      <td>0</td>\n",
              "    </tr>\n",
              "    <tr>\n",
              "      <th>1</th>\n",
              "      <td>0.0</td>\n",
              "      <td>1.191857</td>\n",
              "      <td>0.266151</td>\n",
              "      <td>0.166480</td>\n",
              "      <td>0.448154</td>\n",
              "      <td>0.060018</td>\n",
              "      <td>-0.082361</td>\n",
              "      <td>-0.078803</td>\n",
              "      <td>0.085102</td>\n",
              "      <td>-0.255425</td>\n",
              "      <td>-0.166974</td>\n",
              "      <td>1.612727</td>\n",
              "      <td>1.065235</td>\n",
              "      <td>0.489095</td>\n",
              "      <td>-0.143772</td>\n",
              "      <td>0.635558</td>\n",
              "      <td>0.463917</td>\n",
              "      <td>-0.114805</td>\n",
              "      <td>-0.183361</td>\n",
              "      <td>-0.145783</td>\n",
              "      <td>-0.069083</td>\n",
              "      <td>-0.225775</td>\n",
              "      <td>-0.638672</td>\n",
              "      <td>0.101288</td>\n",
              "      <td>-0.339846</td>\n",
              "      <td>0.167170</td>\n",
              "      <td>0.125895</td>\n",
              "      <td>-0.008983</td>\n",
              "      <td>0.014724</td>\n",
              "      <td>2.69</td>\n",
              "      <td>0</td>\n",
              "    </tr>\n",
              "    <tr>\n",
              "      <th>2</th>\n",
              "      <td>1.0</td>\n",
              "      <td>-1.358354</td>\n",
              "      <td>-1.340163</td>\n",
              "      <td>1.773209</td>\n",
              "      <td>0.379780</td>\n",
              "      <td>-0.503198</td>\n",
              "      <td>1.800499</td>\n",
              "      <td>0.791461</td>\n",
              "      <td>0.247676</td>\n",
              "      <td>-1.514654</td>\n",
              "      <td>0.207643</td>\n",
              "      <td>0.624501</td>\n",
              "      <td>0.066084</td>\n",
              "      <td>0.717293</td>\n",
              "      <td>-0.165946</td>\n",
              "      <td>2.345865</td>\n",
              "      <td>-2.890083</td>\n",
              "      <td>1.109969</td>\n",
              "      <td>-0.121359</td>\n",
              "      <td>-2.261857</td>\n",
              "      <td>0.524980</td>\n",
              "      <td>0.247998</td>\n",
              "      <td>0.771679</td>\n",
              "      <td>0.909412</td>\n",
              "      <td>-0.689281</td>\n",
              "      <td>-0.327642</td>\n",
              "      <td>-0.139097</td>\n",
              "      <td>-0.055353</td>\n",
              "      <td>-0.059752</td>\n",
              "      <td>378.66</td>\n",
              "      <td>0</td>\n",
              "    </tr>\n",
              "    <tr>\n",
              "      <th>3</th>\n",
              "      <td>1.0</td>\n",
              "      <td>-0.966272</td>\n",
              "      <td>-0.185226</td>\n",
              "      <td>1.792993</td>\n",
              "      <td>-0.863291</td>\n",
              "      <td>-0.010309</td>\n",
              "      <td>1.247203</td>\n",
              "      <td>0.237609</td>\n",
              "      <td>0.377436</td>\n",
              "      <td>-1.387024</td>\n",
              "      <td>-0.054952</td>\n",
              "      <td>-0.226487</td>\n",
              "      <td>0.178228</td>\n",
              "      <td>0.507757</td>\n",
              "      <td>-0.287924</td>\n",
              "      <td>-0.631418</td>\n",
              "      <td>-1.059647</td>\n",
              "      <td>-0.684093</td>\n",
              "      <td>1.965775</td>\n",
              "      <td>-1.232622</td>\n",
              "      <td>-0.208038</td>\n",
              "      <td>-0.108300</td>\n",
              "      <td>0.005274</td>\n",
              "      <td>-0.190321</td>\n",
              "      <td>-1.175575</td>\n",
              "      <td>0.647376</td>\n",
              "      <td>-0.221929</td>\n",
              "      <td>0.062723</td>\n",
              "      <td>0.061458</td>\n",
              "      <td>123.50</td>\n",
              "      <td>0</td>\n",
              "    </tr>\n",
              "    <tr>\n",
              "      <th>4</th>\n",
              "      <td>2.0</td>\n",
              "      <td>-1.158233</td>\n",
              "      <td>0.877737</td>\n",
              "      <td>1.548718</td>\n",
              "      <td>0.403034</td>\n",
              "      <td>-0.407193</td>\n",
              "      <td>0.095921</td>\n",
              "      <td>0.592941</td>\n",
              "      <td>-0.270533</td>\n",
              "      <td>0.817739</td>\n",
              "      <td>0.753074</td>\n",
              "      <td>-0.822843</td>\n",
              "      <td>0.538196</td>\n",
              "      <td>1.345852</td>\n",
              "      <td>-1.119670</td>\n",
              "      <td>0.175121</td>\n",
              "      <td>-0.451449</td>\n",
              "      <td>-0.237033</td>\n",
              "      <td>-0.038195</td>\n",
              "      <td>0.803487</td>\n",
              "      <td>0.408542</td>\n",
              "      <td>-0.009431</td>\n",
              "      <td>0.798278</td>\n",
              "      <td>-0.137458</td>\n",
              "      <td>0.141267</td>\n",
              "      <td>-0.206010</td>\n",
              "      <td>0.502292</td>\n",
              "      <td>0.219422</td>\n",
              "      <td>0.215153</td>\n",
              "      <td>69.99</td>\n",
              "      <td>0</td>\n",
              "    </tr>\n",
              "  </tbody>\n",
              "</table>\n",
              "</div>"
            ],
            "text/plain": [
              "   Time        V1        V2        V3  ...       V27       V28  Amount  Class\n",
              "0   0.0 -1.359807 -0.072781  2.536347  ...  0.133558 -0.021053  149.62      0\n",
              "1   0.0  1.191857  0.266151  0.166480  ... -0.008983  0.014724    2.69      0\n",
              "2   1.0 -1.358354 -1.340163  1.773209  ... -0.055353 -0.059752  378.66      0\n",
              "3   1.0 -0.966272 -0.185226  1.792993  ...  0.062723  0.061458  123.50      0\n",
              "4   2.0 -1.158233  0.877737  1.548718  ...  0.219422  0.215153   69.99      0\n",
              "\n",
              "[5 rows x 31 columns]"
            ]
          },
          "metadata": {},
          "execution_count": 3
        }
      ]
    },
    {
      "cell_type": "markdown",
      "metadata": {
        "id": "CSJ1RUjH8Gah"
      },
      "source": [
        "**Há valores nulos?**\n",
        "\n",
        "Um dos problemas mais comuns que podemos enfrentar na limpeza e exploração de dados é lidar com os valores ausentes. A qualidade de um dataset está diretamente relacionada à quantidade de valores ausentes. É importante entender logo no início se esses valores nulos são significativos comparados ao total de entradas."
      ]
    },
    {
      "cell_type": "code",
      "metadata": {
        "colab": {
          "base_uri": "https://localhost:8080/"
        },
        "id": "ZBEgcDMX8J_P",
        "outputId": "a7ec13da-10af-431f-ab5f-7e701988f221"
      },
      "source": [
        "#verificando se há valores nulos \n",
        "print('Temos valores nulos?', df.isnull().values.any())"
      ],
      "execution_count": null,
      "outputs": [
        {
          "output_type": "stream",
          "name": "stdout",
          "text": [
            "Temos valores nulos? False\n"
          ]
        }
      ]
    },
    {
      "cell_type": "markdown",
      "metadata": {
        "id": "1ZwE3key8dA8"
      },
      "source": [
        "**Dividindo dados entre fraudulentos e normais**\n",
        "\n",
        "Vou separar os dados para que eu tenha o conjunto de dados que correspondem a transações fraudulentas e o conjunto que os dados correspondem a transações normais afim de facilitar a análise e verificar suas dimensões separadamente."
      ]
    },
    {
      "cell_type": "code",
      "metadata": {
        "id": "r_WErm8T8eLA"
      },
      "source": [
        "normal = df[df['Class'] == 0]\n",
        "fraude = df[df['Class'] == 1]"
      ],
      "execution_count": null,
      "outputs": []
    },
    {
      "cell_type": "code",
      "metadata": {
        "colab": {
          "base_uri": "https://localhost:8080/"
        },
        "id": "Ufpe6Nv7A8qQ",
        "outputId": "3a750edb-9cee-4e7d-a196-ce92ed76647c"
      },
      "source": [
        "#verificando as dimensões dos datasets com transações normais e fraudulentas\n",
        "\n",
        "print('Dimensões transações legítimas',\n",
        "    '\\nVariáveis: ',normal.shape[1], \"\\n\"\n",
        "      'Entradas: ', normal.shape[0])\n",
        "print('Dimensões transações fraudulentas',\n",
        "    '\\nVariáveis: ',fraude.shape[1], \"\\n\"\n",
        "      'Entradas: ', fraude.shape[0])"
      ],
      "execution_count": null,
      "outputs": [
        {
          "output_type": "stream",
          "name": "stdout",
          "text": [
            "Dimensões transações legítimas \n",
            "Variáveis:  31 \n",
            "Entradas:  284315\n",
            "Dimensões transações fraudulentas \n",
            "Variáveis:  31 \n",
            "Entradas:  492\n"
          ]
        }
      ]
    },
    {
      "cell_type": "markdown",
      "metadata": {
        "id": "nBglyH1PBFqZ"
      },
      "source": [
        "É possível verificar que o dataset está bem desbalanceado. A quantidade de transações legítimas é extremamente maior que a quantidade de transações fraudulentas. Vamos seguir com a análise..."
      ]
    },
    {
      "cell_type": "code",
      "metadata": {
        "colab": {
          "base_uri": "https://localhost:8080/",
          "height": 367
        },
        "id": "apgp8XNfBBSG",
        "outputId": "0b8feedc-bbe1-464d-a668-a0f21547359a"
      },
      "source": [
        "#visualizando o desbalanceamento \n",
        "fig, ax = plt.subplots()\n",
        "sns.countplot('Class', data=df, ax=ax)\n",
        "ax.set_title('Distribuição das Classes')\n",
        "plt.plot()"
      ],
      "execution_count": null,
      "outputs": [
        {
          "output_type": "stream",
          "name": "stderr",
          "text": [
            "/usr/local/lib/python3.7/dist-packages/seaborn/_decorators.py:43: FutureWarning: Pass the following variable as a keyword arg: x. From version 0.12, the only valid positional argument will be `data`, and passing other arguments without an explicit keyword will result in an error or misinterpretation.\n",
            "  FutureWarning\n"
          ]
        },
        {
          "output_type": "execute_result",
          "data": {
            "text/plain": [
              "[]"
            ]
          },
          "metadata": {},
          "execution_count": 7
        },
        {
          "output_type": "display_data",
          "data": {
            "image/png": "[encoded data removed]",
            "text/plain": [
              "<Figure size 432x288 with 1 Axes>"
            ]
          },
          "metadata": {
            "needs_background": "light"
          }
        }
      ]
    },
    {
      "cell_type": "markdown",
      "metadata": {
        "id": "1v_lqgdTkGk6"
      },
      "source": [
        "Vamos verificar algumas estatísticas importantes das operações normais "
      ]
    },
    {
      "cell_type": "code",
      "metadata": {
        "colab": {
          "base_uri": "https://localhost:8080/",
          "height": 294
        },
        "id": "eO2-oeG9j9js",
        "outputId": "6c418ad9-4b15-4c6d-92ed-43e5b1a1c496"
      },
      "source": [
        "normal[['Amount', 'Time']].describe()"
      ],
      "execution_count": null,
      "outputs": [
        {
          "output_type": "execute_result",
          "data": {
            "text/html": [
              "<div>\n",
              "<style scoped>\n",
              "    .dataframe tbody tr th:only-of-type {\n",
              "        vertical-align: middle;\n",
              "    }\n",
              "\n",
              "    .dataframe tbody tr th {\n",
              "        vertical-align: top;\n",
              "    }\n",
              "\n",
              "    .dataframe thead th {\n",
              "        text-align: right;\n",
              "    }\n",
              "</style>\n",
              "<table border=\"1\" class=\"dataframe\">\n",
              "  <thead>\n",
              "    <tr style=\"text-align: right;\">\n",
              "      <th></th>\n",
              "      <th>Amount</th>\n",
              "      <th>Time</th>\n",
              "    </tr>\n",
              "  </thead>\n",
              "  <tbody>\n",
              "    <tr>\n",
              "      <th>count</th>\n",
              "      <td>284315.000000</td>\n",
              "      <td>284315.000000</td>\n",
              "    </tr>\n",
              "    <tr>\n",
              "      <th>mean</th>\n",
              "      <td>88.291022</td>\n",
              "      <td>94838.202258</td>\n",
              "    </tr>\n",
              "    <tr>\n",
              "      <th>std</th>\n",
              "      <td>250.105092</td>\n",
              "      <td>47484.015786</td>\n",
              "    </tr>\n",
              "    <tr>\n",
              "      <th>min</th>\n",
              "      <td>0.000000</td>\n",
              "      <td>0.000000</td>\n",
              "    </tr>\n",
              "    <tr>\n",
              "      <th>25%</th>\n",
              "      <td>5.650000</td>\n",
              "      <td>54230.000000</td>\n",
              "    </tr>\n",
              "    <tr>\n",
              "      <th>50%</th>\n",
              "      <td>22.000000</td>\n",
              "      <td>84711.000000</td>\n",
              "    </tr>\n",
              "    <tr>\n",
              "      <th>75%</th>\n",
              "      <td>77.050000</td>\n",
              "      <td>139333.000000</td>\n",
              "    </tr>\n",
              "    <tr>\n",
              "      <th>max</th>\n",
              "      <td>25691.160000</td>\n",
              "      <td>172792.000000</td>\n",
              "    </tr>\n",
              "  </tbody>\n",
              "</table>\n",
              "</div>"
            ],
            "text/plain": [
              "              Amount           Time\n",
              "count  284315.000000  284315.000000\n",
              "mean       88.291022   94838.202258\n",
              "std       250.105092   47484.015786\n",
              "min         0.000000       0.000000\n",
              "25%         5.650000   54230.000000\n",
              "50%        22.000000   84711.000000\n",
              "75%        77.050000  139333.000000\n",
              "max     25691.160000  172792.000000"
            ]
          },
          "metadata": {},
          "execution_count": 8
        }
      ]
    },
    {
      "cell_type": "markdown",
      "metadata": {
        "id": "qTSE1bhTkfmB"
      },
      "source": [
        "Agora vamos verificar as estatísticas das operações fraudulentas"
      ]
    },
    {
      "cell_type": "code",
      "metadata": {
        "colab": {
          "base_uri": "https://localhost:8080/",
          "height": 294
        },
        "id": "D2Ie3jJ0kV9o",
        "outputId": "3d888c5c-8f9f-4cf0-9edb-fa941a343e78"
      },
      "source": [
        "fraude[['Amount', 'Time']].describe()"
      ],
      "execution_count": null,
      "outputs": [
        {
          "output_type": "execute_result",
          "data": {
            "text/html": [
              "<div>\n",
              "<style scoped>\n",
              "    .dataframe tbody tr th:only-of-type {\n",
              "        vertical-align: middle;\n",
              "    }\n",
              "\n",
              "    .dataframe tbody tr th {\n",
              "        vertical-align: top;\n",
              "    }\n",
              "\n",
              "    .dataframe thead th {\n",
              "        text-align: right;\n",
              "    }\n",
              "</style>\n",
              "<table border=\"1\" class=\"dataframe\">\n",
              "  <thead>\n",
              "    <tr style=\"text-align: right;\">\n",
              "      <th></th>\n",
              "      <th>Amount</th>\n",
              "      <th>Time</th>\n",
              "    </tr>\n",
              "  </thead>\n",
              "  <tbody>\n",
              "    <tr>\n",
              "      <th>count</th>\n",
              "      <td>492.000000</td>\n",
              "      <td>492.000000</td>\n",
              "    </tr>\n",
              "    <tr>\n",
              "      <th>mean</th>\n",
              "      <td>122.211321</td>\n",
              "      <td>80746.806911</td>\n",
              "    </tr>\n",
              "    <tr>\n",
              "      <th>std</th>\n",
              "      <td>256.683288</td>\n",
              "      <td>47835.365138</td>\n",
              "    </tr>\n",
              "    <tr>\n",
              "      <th>min</th>\n",
              "      <td>0.000000</td>\n",
              "      <td>406.000000</td>\n",
              "    </tr>\n",
              "    <tr>\n",
              "      <th>25%</th>\n",
              "      <td>1.000000</td>\n",
              "      <td>41241.500000</td>\n",
              "    </tr>\n",
              "    <tr>\n",
              "      <th>50%</th>\n",
              "      <td>9.250000</td>\n",
              "      <td>75568.500000</td>\n",
              "    </tr>\n",
              "    <tr>\n",
              "      <th>75%</th>\n",
              "      <td>105.890000</td>\n",
              "      <td>128483.000000</td>\n",
              "    </tr>\n",
              "    <tr>\n",
              "      <th>max</th>\n",
              "      <td>2125.870000</td>\n",
              "      <td>170348.000000</td>\n",
              "    </tr>\n",
              "  </tbody>\n",
              "</table>\n",
              "</div>"
            ],
            "text/plain": [
              "            Amount           Time\n",
              "count   492.000000     492.000000\n",
              "mean    122.211321   80746.806911\n",
              "std     256.683288   47835.365138\n",
              "min       0.000000     406.000000\n",
              "25%       1.000000   41241.500000\n",
              "50%       9.250000   75568.500000\n",
              "75%     105.890000  128483.000000\n",
              "max    2125.870000  170348.000000"
            ]
          },
          "metadata": {},
          "execution_count": 9
        }
      ]
    },
    {
      "cell_type": "code",
      "metadata": {
        "colab": {
          "base_uri": "https://localhost:8080/",
          "height": 441
        },
        "id": "0CFziM36CbbG",
        "outputId": "602e215b-6dc0-4e28-edd6-15c2fab50958"
      },
      "source": [
        "fig, ax = plt.subplots(nrows=2, ncols=1, figsize=(12,6))\n",
        "\n",
        "num_bins = 40\n",
        "\n",
        "ax[0].hist(normal['Time'], bins=num_bins)\n",
        "ax[0].set_title('Normal')\n",
        "\n",
        "ax[1].hist(fraude['Time'], bins=num_bins)\n",
        "ax[1].set_title('Fraud')\n",
        "\n",
        "plt.xlabel('Tempo (segundos)')\n",
        "plt.ylabel('Transações')\n",
        "plt.tight_layout()"
      ],
      "execution_count": null,
      "outputs": [
        {
          "output_type": "display_data",
          "data": {
            "image/png": "[encoded data removed]",
            "text/plain": [
              "<Figure size 864x432 with 2 Axes>"
            ]
          },
          "metadata": {
            "needs_background": "light"
          }
        }
      ]
    },
    {
      "cell_type": "code",
      "metadata": {
        "colab": {
          "base_uri": "https://localhost:8080/",
          "height": 441
        },
        "id": "ASo5R91xjRnC",
        "outputId": "4bb51a37-24a7-4257-812a-60f9e092d71a"
      },
      "source": [
        "fig, ax = plt.subplots(nrows=2, ncols=1, figsize=(12,6))\n",
        "\n",
        "num_bins = 40\n",
        "\n",
        "ax[0].hist(normal['Amount'], bins=num_bins)\n",
        "ax[0].set_title('Normal')\n",
        "\n",
        "ax[1].hist(fraude['Amount'], bins=num_bins)\n",
        "ax[1].set_title('Fraud')\n",
        "\n",
        "plt.xlabel('Amount')\n",
        "plt.ylabel('Transações')\n",
        "plt.tight_layout()"
      ],
      "execution_count": null,
      "outputs": [
        {
          "output_type": "display_data",
          "data": {
            "image/png": "[encoded data removed]",
            "text/plain": [
              "<Figure size 864x432 with 2 Axes>"
            ]
          },
          "metadata": {
            "needs_background": "light"
          }
        }
      ]
    },
    {
      "cell_type": "markdown",
      "metadata": {
        "id": "5OdcL0pUmVNv"
      },
      "source": [
        "Seguindo a análise exploratória, plotou-se os boxplots para ver se há alguma diferença no padrão transações em relação à dimensão Amount.\n",
        "\n",
        "De uma maneira geral, percebe-se uma distribuição diferente para as duas classes, o que provavelmente irá contribuir para o treinamento do modelo de machine learning."
      ]
    },
    {
      "cell_type": "code",
      "metadata": {
        "colab": {
          "base_uri": "https://localhost:8080/",
          "height": 784
        },
        "id": "sIqfo904mWNC",
        "outputId": "f42df80d-2a94-4691-b37a-801ea378d341"
      },
      "source": [
        "fig, ax = plt.subplots(figsize=(6,10), sharex=True)\n",
        "\n",
        "sns.boxplot(df.Class, df.Amount, showmeans=True, ax=ax)\n",
        "plt.ylim((-20, 400))\n",
        "plt.xticks([0, 1], ['Normal', 'Fraude'])\n",
        "\n",
        "plt.tight_layout()"
      ],
      "execution_count": null,
      "outputs": [
        {
          "output_type": "stream",
          "name": "stderr",
          "text": [
            "/usr/local/lib/python3.7/dist-packages/seaborn/_decorators.py:43: FutureWarning: Pass the following variables as keyword args: x, y. From version 0.12, the only valid positional argument will be `data`, and passing other arguments without an explicit keyword will result in an error or misinterpretation.\n",
            "  FutureWarning\n"
          ]
        },
        {
          "output_type": "display_data",
          "data": {
            "image/png": "[encoded data removed]",
            "text/plain": [
              "<Figure size 432x720 with 1 Axes>"
            ]
          },
          "metadata": {
            "needs_background": "light"
          }
        }
      ]
    },
    {
      "cell_type": "markdown",
      "metadata": {
        "id": "ULe7z0jZt0EH"
      },
      "source": [
        "## Preparação dos Dados\n"
      ]
    },
    {
      "cell_type": "markdown",
      "metadata": {
        "id": "C74zrI53qy90"
      },
      "source": [
        "**Balanceando o dataset**\n",
        "\n",
        "Vou criar um novo dataset que contenha uma distibruição parecida entre as transações fraudulentas e normais. Para isso, vou usar a função sample que escolhe aleatoriamente uma determinada quantidade de dados."
      ]
    },
    {
      "cell_type": "code",
      "metadata": {
        "id": "JolNAB10wBBd"
      },
      "source": [
        "normal_sample = normal.sample(n=492)"
      ],
      "execution_count": null,
      "outputs": []
    },
    {
      "cell_type": "code",
      "metadata": {
        "id": "21OfQQ5Iq8I-"
      },
      "source": [
        "#Salvando o dataset desbalanceado\n",
        "df_desb = df.copy()"
      ],
      "execution_count": null,
      "outputs": []
    },
    {
      "cell_type": "markdown",
      "metadata": {
        "id": "wXu1uKJxxDse"
      },
      "source": [
        "Concatenando os dados fraudulentos e os legítimos para atualizar o dataframe deixando ele balanceado"
      ]
    },
    {
      "cell_type": "code",
      "metadata": {
        "id": "fxB4Ly5cxE5R"
      },
      "source": [
        "df = pd.concat([normal_sample, fraude], axis=0)"
      ],
      "execution_count": null,
      "outputs": []
    },
    {
      "cell_type": "markdown",
      "metadata": {
        "id": "U6naed0yxsr7"
      },
      "source": [
        "Vamos verificar as dimensões do *dataset* atualizado!!"
      ]
    },
    {
      "cell_type": "code",
      "metadata": {
        "colab": {
          "base_uri": "https://localhost:8080/"
        },
        "id": "4jB13MmMxxNw",
        "outputId": "96aa1597-565e-4f80-ee50-3e073cf57383"
      },
      "source": [
        "print('Dimensões transações legítimas',\n",
        "    '\\nVariáveis: ',normal_sample.shape[1], \"\\n\"\n",
        "      'Entradas: ', normal_sample.shape[0])\n",
        "print('Dimensões transações fraudulentas',\n",
        "    '\\nVariáveis: ',fraude.shape[1], \"\\n\"\n",
        "      'Entradas: ', fraude.shape[0])"
      ],
      "execution_count": null,
      "outputs": [
        {
          "output_type": "stream",
          "name": "stdout",
          "text": [
            "Dimensões transações legítimas \n",
            "Variáveis:  31 \n",
            "Entradas:  492\n",
            "Dimensões transações fraudulentas \n",
            "Variáveis:  31 \n",
            "Entradas:  492\n"
          ]
        }
      ]
    },
    {
      "cell_type": "markdown",
      "metadata": {
        "id": "9D5F-nq4oDS2"
      },
      "source": [
        "Agora podemos verificar que o novo dataset possui a mesma quantidade de transações fraudulentas e legítimas."
      ]
    },
    {
      "cell_type": "code",
      "metadata": {
        "colab": {
          "base_uri": "https://localhost:8080/",
          "height": 367
        },
        "id": "j0zQmlsuy0VB",
        "outputId": "a3a72896-61b8-48cb-a2b0-1b424ec18173"
      },
      "source": [
        "#visualizando o balanceamento\n",
        "fig, ax = plt.subplots()\n",
        "sns.countplot('Class', data=df, ax=ax)\n",
        "ax.set_title('Distribuição das Classes')\n",
        "plt.plot()"
      ],
      "execution_count": null,
      "outputs": [
        {
          "output_type": "stream",
          "name": "stderr",
          "text": [
            "/usr/local/lib/python3.7/dist-packages/seaborn/_decorators.py:43: FutureWarning: Pass the following variable as a keyword arg: x. From version 0.12, the only valid positional argument will be `data`, and passing other arguments without an explicit keyword will result in an error or misinterpretation.\n",
            "  FutureWarning\n"
          ]
        },
        {
          "output_type": "execute_result",
          "data": {
            "text/plain": [
              "[]"
            ]
          },
          "metadata": {},
          "execution_count": 17
        },
        {
          "output_type": "display_data",
          "data": {
            "image/png": "[encoded data removed]",
            "text/plain": [
              "<Figure size 432x288 with 1 Axes>"
            ]
          },
          "metadata": {
            "needs_background": "light"
          }
        }
      ]
    },
    {
      "cell_type": "code",
      "metadata": {
        "id": "IqfjG_SUSTi-",
        "colab": {
          "base_uri": "https://localhost:8080/",
          "height": 222
        },
        "outputId": "e888a9f8-8346-499a-b5fd-027067987025"
      },
      "source": [
        "df_clean = df.copy()\n",
        "scaler = StandardScaler()\n",
        "df_clean['std_amount'] = scaler.fit_transform(df_clean['Amount'].values.reshape(-1, 1))\n",
        "df_clean['std_time'] = scaler.fit_transform(df_clean['Time'].values.reshape(-1, 1))\n",
        "\n",
        "df_clean.drop(['Time', 'Amount'], axis=1, inplace=True)\n",
        "\n",
        "#Visualizar novo dataset\n",
        "df_clean.head()"
      ],
      "execution_count": null,
      "outputs": [
        {
          "output_type": "execute_result",
          "data": {
            "text/html": [
              "<div>\n",
              "<style scoped>\n",
              "    .dataframe tbody tr th:only-of-type {\n",
              "        vertical-align: middle;\n",
              "    }\n",
              "\n",
              "    .dataframe tbody tr th {\n",
              "        vertical-align: top;\n",
              "    }\n",
              "\n",
              "    .dataframe thead th {\n",
              "        text-align: right;\n",
              "    }\n",
              "</style>\n",
              "<table border=\"1\" class=\"dataframe\">\n",
              "  <thead>\n",
              "    <tr style=\"text-align: right;\">\n",
              "      <th></th>\n",
              "      <th>V1</th>\n",
              "      <th>V2</th>\n",
              "      <th>V3</th>\n",
              "      <th>V4</th>\n",
              "      <th>V5</th>\n",
              "      <th>V6</th>\n",
              "      <th>V7</th>\n",
              "      <th>V8</th>\n",
              "      <th>V9</th>\n",
              "      <th>V10</th>\n",
              "      <th>V11</th>\n",
              "      <th>V12</th>\n",
              "      <th>V13</th>\n",
              "      <th>V14</th>\n",
              "      <th>V15</th>\n",
              "      <th>V16</th>\n",
              "      <th>V17</th>\n",
              "      <th>V18</th>\n",
              "      <th>V19</th>\n",
              "      <th>V20</th>\n",
              "      <th>V21</th>\n",
              "      <th>V22</th>\n",
              "      <th>V23</th>\n",
              "      <th>V24</th>\n",
              "      <th>V25</th>\n",
              "      <th>V26</th>\n",
              "      <th>V27</th>\n",
              "      <th>V28</th>\n",
              "      <th>Class</th>\n",
              "      <th>std_amount</th>\n",
              "      <th>std_time</th>\n",
              "    </tr>\n",
              "  </thead>\n",
              "  <tbody>\n",
              "    <tr>\n",
              "      <th>240693</th>\n",
              "      <td>-0.457083</td>\n",
              "      <td>-0.623282</td>\n",
              "      <td>0.065528</td>\n",
              "      <td>-1.399806</td>\n",
              "      <td>-0.120458</td>\n",
              "      <td>-0.383089</td>\n",
              "      <td>1.659488</td>\n",
              "      <td>-0.433139</td>\n",
              "      <td>-1.180798</td>\n",
              "      <td>0.135516</td>\n",
              "      <td>-1.456218</td>\n",
              "      <td>-1.317731</td>\n",
              "      <td>-1.285259</td>\n",
              "      <td>0.226657</td>\n",
              "      <td>-0.386190</td>\n",
              "      <td>-1.675630</td>\n",
              "      <td>-0.155054</td>\n",
              "      <td>0.951974</td>\n",
              "      <td>-0.747847</td>\n",
              "      <td>0.028829</td>\n",
              "      <td>-0.375817</td>\n",
              "      <td>-0.966089</td>\n",
              "      <td>0.603292</td>\n",
              "      <td>0.644646</td>\n",
              "      <td>-0.517308</td>\n",
              "      <td>0.298366</td>\n",
              "      <td>-0.163153</td>\n",
              "      <td>-0.033694</td>\n",
              "      <td>0</td>\n",
              "      <td>0.794408</td>\n",
              "      <td>1.305461</td>\n",
              "    </tr>\n",
              "    <tr>\n",
              "      <th>92584</th>\n",
              "      <td>1.175453</td>\n",
              "      <td>0.432309</td>\n",
              "      <td>-0.526612</td>\n",
              "      <td>0.773161</td>\n",
              "      <td>0.095474</td>\n",
              "      <td>-0.822850</td>\n",
              "      <td>0.111893</td>\n",
              "      <td>0.057013</td>\n",
              "      <td>-0.171311</td>\n",
              "      <td>-0.535190</td>\n",
              "      <td>1.988204</td>\n",
              "      <td>-0.261481</td>\n",
              "      <td>-2.032797</td>\n",
              "      <td>-0.700923</td>\n",
              "      <td>0.702729</td>\n",
              "      <td>0.479973</td>\n",
              "      <td>1.241557</td>\n",
              "      <td>0.467334</td>\n",
              "      <td>-0.499581</td>\n",
              "      <td>-0.213128</td>\n",
              "      <td>-0.081970</td>\n",
              "      <td>-0.269230</td>\n",
              "      <td>-0.019502</td>\n",
              "      <td>0.062882</td>\n",
              "      <td>0.379612</td>\n",
              "      <td>0.374581</td>\n",
              "      <td>-0.029547</td>\n",
              "      <td>0.027474</td>\n",
              "      <td>0</td>\n",
              "      <td>-0.458311</td>\n",
              "      <td>-0.485933</td>\n",
              "    </tr>\n",
              "    <tr>\n",
              "      <th>64821</th>\n",
              "      <td>-0.500894</td>\n",
              "      <td>0.833284</td>\n",
              "      <td>1.286568</td>\n",
              "      <td>0.099620</td>\n",
              "      <td>-0.767268</td>\n",
              "      <td>-0.445565</td>\n",
              "      <td>0.069369</td>\n",
              "      <td>0.446469</td>\n",
              "      <td>-0.711505</td>\n",
              "      <td>-0.527870</td>\n",
              "      <td>1.402280</td>\n",
              "      <td>1.472274</td>\n",
              "      <td>1.294005</td>\n",
              "      <td>0.235948</td>\n",
              "      <td>0.101731</td>\n",
              "      <td>0.624050</td>\n",
              "      <td>-0.629427</td>\n",
              "      <td>0.518162</td>\n",
              "      <td>-0.137391</td>\n",
              "      <td>0.007292</td>\n",
              "      <td>0.346207</td>\n",
              "      <td>0.827339</td>\n",
              "      <td>0.101440</td>\n",
              "      <td>0.593486</td>\n",
              "      <td>-0.409823</td>\n",
              "      <td>0.277482</td>\n",
              "      <td>-0.094018</td>\n",
              "      <td>-0.021952</td>\n",
              "      <td>0</td>\n",
              "      <td>-0.192670</td>\n",
              "      <td>-0.747858</td>\n",
              "    </tr>\n",
              "    <tr>\n",
              "      <th>211774</th>\n",
              "      <td>2.034350</td>\n",
              "      <td>-0.343036</td>\n",
              "      <td>-0.783403</td>\n",
              "      <td>-0.156383</td>\n",
              "      <td>-0.069276</td>\n",
              "      <td>-0.009295</td>\n",
              "      <td>-0.446683</td>\n",
              "      <td>-0.039303</td>\n",
              "      <td>1.113546</td>\n",
              "      <td>-0.214602</td>\n",
              "      <td>-1.193032</td>\n",
              "      <td>0.718176</td>\n",
              "      <td>1.334621</td>\n",
              "      <td>-0.234414</td>\n",
              "      <td>0.992611</td>\n",
              "      <td>0.553990</td>\n",
              "      <td>-0.970211</td>\n",
              "      <td>-0.017442</td>\n",
              "      <td>0.201111</td>\n",
              "      <td>-0.046433</td>\n",
              "      <td>-0.183756</td>\n",
              "      <td>-0.448527</td>\n",
              "      <td>0.302212</td>\n",
              "      <td>0.031734</td>\n",
              "      <td>-0.372645</td>\n",
              "      <td>-0.272316</td>\n",
              "      <td>0.004301</td>\n",
              "      <td>-0.030431</td>\n",
              "      <td>0</td>\n",
              "      <td>-0.337624</td>\n",
              "      <td>1.054588</td>\n",
              "    </tr>\n",
              "    <tr>\n",
              "      <th>187163</th>\n",
              "      <td>-3.021751</td>\n",
              "      <td>-3.040831</td>\n",
              "      <td>-1.620381</td>\n",
              "      <td>-1.814720</td>\n",
              "      <td>1.697694</td>\n",
              "      <td>-2.427368</td>\n",
              "      <td>0.627269</td>\n",
              "      <td>0.143643</td>\n",
              "      <td>0.611615</td>\n",
              "      <td>-1.817200</td>\n",
              "      <td>-1.047461</td>\n",
              "      <td>0.750280</td>\n",
              "      <td>0.449290</td>\n",
              "      <td>0.893028</td>\n",
              "      <td>0.308891</td>\n",
              "      <td>-0.736557</td>\n",
              "      <td>-0.201937</td>\n",
              "      <td>0.051327</td>\n",
              "      <td>0.289142</td>\n",
              "      <td>1.429796</td>\n",
              "      <td>0.666116</td>\n",
              "      <td>0.471026</td>\n",
              "      <td>0.565874</td>\n",
              "      <td>0.713915</td>\n",
              "      <td>-0.125363</td>\n",
              "      <td>-0.351190</td>\n",
              "      <td>0.239854</td>\n",
              "      <td>-0.227390</td>\n",
              "      <td>0</td>\n",
              "      <td>1.139015</td>\n",
              "      <td>0.824252</td>\n",
              "    </tr>\n",
              "  </tbody>\n",
              "</table>\n",
              "</div>"
            ],
            "text/plain": [
              "              V1        V2        V3  ...  Class  std_amount  std_time\n",
              "240693 -0.457083 -0.623282  0.065528  ...      0    0.794408  1.305461\n",
              "92584   1.175453  0.432309 -0.526612  ...      0   -0.458311 -0.485933\n",
              "64821  -0.500894  0.833284  1.286568  ...      0   -0.192670 -0.747858\n",
              "211774  2.034350 -0.343036 -0.783403  ...      0   -0.337624  1.054588\n",
              "187163 -3.021751 -3.040831 -1.620381  ...      0    1.139015  0.824252\n",
              "\n",
              "[5 rows x 31 columns]"
            ]
          },
          "metadata": {},
          "execution_count": 18
        }
      ]
    },
    {
      "cell_type": "markdown",
      "metadata": {
        "id": "mUV1KFwMpA5v"
      },
      "source": [
        "**Matriz de correlação**\n",
        "\n",
        "Correlação significa que existe uma relação entre duas ou mais coisas. No nosso contexto, estamos buscando relação ou semelhança entre as variáveis do *dataset*.\n",
        "\n",
        "Essa relação pode ser medida, e é função do coeficiente de correlação estabelecer qual a intensidade dela. Para identificar as correlações existentes entre as variáveis de interesse.\n",
        "\n",
        "É interessante verificar como o balanceamento é importante na relação entre as variáveis. Perceba que no dataset balanceado fica evidente mais relações entre as variáveis que no *dataset* original."
      ]
    },
    {
      "cell_type": "code",
      "metadata": {
        "colab": {
          "base_uri": "https://localhost:8080/",
          "height": 572
        },
        "id": "N8ekG7hmpSsq",
        "outputId": "2ebaa68d-b82d-4bcd-ef2d-60d4f65c6a94"
      },
      "source": [
        "# criar uma matriz de correlação\n",
        "corr = df_desb.corr()\n",
        "corr_smp = df_clean.corr()\n",
        "\n",
        "fig, ax = plt.subplots(nrows=1, ncols=2, figsize = (18,8))\n",
        "fig.suptitle('Matriz de Correlação')\n",
        "\n",
        "sns.heatmap(corr, cmap='crest', linewidths=.004, square=True, linecolor='white', ax=ax[0]);\n",
        "ax[0].set_title('Desbalanceado')\n",
        "\n",
        "sns.heatmap(corr_smp, cmap='crest', linewidths=.004, square=True, linecolor='white', ax=ax[1]);\n",
        "ax[1].set_title('Balanceado')\n"
      ],
      "execution_count": null,
      "outputs": [
        {
          "output_type": "execute_result",
          "data": {
            "text/plain": [
              "Text(0.5, 1.0, 'Balanceado')"
            ]
          },
          "metadata": {},
          "execution_count": 19
        },
        {
          "output_type": "display_data",
          "data": {
            "image/png": "[encoded data removed]",
            "text/plain": [
              "<Figure size 1296x576 with 4 Axes>"
            ]
          },
          "metadata": {
            "needs_background": "light"
          }
        }
      ]
    },
    {
      "cell_type": "markdown",
      "metadata": {
        "id": "2YFYZVAfpylQ"
      },
      "source": [
        "**Dividir entre conjuntos de Treino e Validação**\n",
        "\n",
        "Antes de proceder com o balanceamento de dados, devemos splitar os dados já existentes entre Treino e Validação. Caso contrário, não teremos parâmetros para conferir se o balanceamento foi adequado.\n",
        "\n",
        "Para garantir que os conjuntos de Treino e Validação tenham a mesma quantidade de classes proporcionalmente, passamos stratify=True."
      ]
    },
    {
      "cell_type": "code",
      "metadata": {
        "id": "AIoeaLKEp4bv"
      },
      "source": [
        "#Separar os dados entre feature matrix e target vector \n",
        "X = df_clean.drop('Class', axis=1)\n",
        "y = df_clean['Class']\n",
        "\n",
        "#Dividir o dataset entre treino e teste\n",
        "X_train, X_test, y_train, y_test = train_test_split(X, y, stratify=y, shuffle=True)"
      ],
      "execution_count": null,
      "outputs": []
    },
    {
      "cell_type": "markdown",
      "metadata": {
        "id": "wJNH5qcjRxfX"
      },
      "source": [
        "## Modelo de Machine Learning\n"
      ]
    },
    {
      "cell_type": "markdown",
      "metadata": {
        "id": "TfbkMM_-sSv_"
      },
      "source": [
        "Com todos os dados preparados e após uma análise exploratória completa, irei construir um classificador usando a Regressão Logística.\n",
        "\n",
        "Após instanciar o modelo, o mesmo será treinado em cima dos dados em X_train e y_train. "
      ]
    },
    {
      "cell_type": "code",
      "metadata": {
        "id": "lDySx8XUSMw_"
      },
      "source": [
        "#escolher e importar um modelo\n",
        "from sklearn.linear_model import LogisticRegression\n",
        "\n",
        "#Instanciar e escolher os hyperparameters\n",
        "model = LogisticRegression()\n",
        "\n",
        "#Fit do modelo (treinar)\n",
        "model.fit(X_train, y_train)\n",
        "\n",
        "#Fazer previsões em cima de novos dados\n",
        "y_pred = model.predict(X_test)\n",
        "y_proba = model.predict_proba(X_test)"
      ],
      "execution_count": null,
      "outputs": []
    },
    {
      "cell_type": "markdown",
      "metadata": {
        "id": "3e4ENOTYSUXi"
      },
      "source": [
        "## Avaliar o desempenho do modelo\n",
        "\n",
        "Com o modelo treinado e as previsões feitas, parte-se para a avaliação do desempenho.\n",
        "Neste tipo de problema, originalmente desbalanceado, a acurácia não é uma métrica adequada.\n",
        "Observe a matriz de confusão para ver a taxa de acertos para transações fraudulentes, ou pela coluna recall do Relatório de Classificação.\n"
      ]
    },
    {
      "cell_type": "code",
      "metadata": {
        "id": "H1jEi7gkSe2r",
        "colab": {
          "base_uri": "https://localhost:8080/"
        },
        "outputId": "7ce5c13e-f495-46e7-e8be-6da5dece735a"
      },
      "source": [
        "# imprimir relatório de classificação\n",
        "print(classification_report(y_test, y_pred))\n",
        "\n",
        "print('acurácia: ', accuracy_score(y_test, y_pred))\n",
        "print('AUC: ', roc_auc_score(y_test, y_pred))"
      ],
      "execution_count": null,
      "outputs": [
        {
          "output_type": "stream",
          "name": "stdout",
          "text": [
            "              precision    recall  f1-score   support\n",
            "\n",
            "           0       0.92      0.95      0.94       123\n",
            "           1       0.95      0.92      0.93       123\n",
            "\n",
            "    accuracy                           0.93       246\n",
            "   macro avg       0.94      0.93      0.93       246\n",
            "weighted avg       0.94      0.93      0.93       246\n",
            "\n",
            "acurácia:  0.9349593495934959\n",
            "AUC:  0.9349593495934959\n"
          ]
        }
      ]
    },
    {
      "cell_type": "markdown",
      "metadata": {
        "id": "16wdf2Wx5DH9"
      },
      "source": [
        "Por fim, vamos plotar a matriz de confusão para ter, pictorialmente, uma visão do desempenho por classes."
      ]
    },
    {
      "cell_type": "code",
      "metadata": {
        "colab": {
          "base_uri": "https://localhost:8080/",
          "height": 294
        },
        "id": "xUirbXYN4-To",
        "outputId": "ec604267-2f98-4614-abd2-e5fc7ecc3a2b"
      },
      "source": [
        "fig, ax = plt.subplots()\n",
        "sns.heatmap(confusion_matrix(y_test, y_pred), annot=True, ax=ax)\n",
        "\n",
        "ax.set_title(\"Matriz de Confusão\")\n",
        "ax.set_ylabel(\"Verdadeiro\")\n",
        "ax.set_xlabel(\"Previsto\")\n",
        "\n",
        "plt.show()"
      ],
      "execution_count": null,
      "outputs": [
        {
          "output_type": "display_data",
          "data": {
            "image/png": "[encoded data removed]",
            "text/plain": [
              "<Figure size 432x288 with 2 Axes>"
            ]
          },
          "metadata": {
            "needs_background": "light"
          }
        }
      ]
    },
    {
      "cell_type": "markdown",
      "metadata": {
        "id": "0Bj7zRZMSfO7"
      },
      "source": [
        "## Conclusão\n",
        "\n",
        "A partir desse projeto foi possível verificar a importância do balanceamento dos dados para o bom funcionamento do modelo de previsão. Foi possível verificar pela matriz de relação como quando o dataset está balanceado, é possível relacionar as variáveis com mais facilidade.\n",
        "Através da Matriz de confusão é possível também verificar a efetividade do modelo, onde 11 transações foram previstas como legítimas e eram fraudulentas."
      ]
    }
  ]
}